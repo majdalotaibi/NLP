{
  "nbformat": 4,
  "nbformat_minor": 0,
  "metadata": {
    "colab": {
      "provenance": [],
      "collapsed_sections": [
        "I3LP-XbcSMr-",
        "kXrw-Fb5SLwj",
        "Ti20OhZzVYYQ",
        "fdzXpJw9bMBy",
        "0ly_lIsHce9I",
        "O4z_jHNadyj_"
      ],
      "authorship_tag": "ABX9TyNKiHJqaYhMvnMmsyllxJ8h",
      "include_colab_link": true
    },
    "kernelspec": {
      "name": "python3",
      "display_name": "Python 3"
    },
    "language_info": {
      "name": "python"
    }
  },
  "cells": [
    {
      "cell_type": "markdown",
      "metadata": {
        "id": "view-in-github",
        "colab_type": "text"
      },
      "source": [
        "<a href=\"https://colab.research.google.com/github/majdalotaibi/NLP/blob/main/NLP_preprocessing.ipynb\" target=\"_parent\"><img src=\"https://colab.research.google.com/assets/colab-badge.svg\" alt=\"Open In Colab\"/></a>"
      ]
    },
    {
      "cell_type": "markdown",
      "source": [
        "# **NLP Course** 🐣\n",
        "\n",
        "---\n",
        "\n"
      ],
      "metadata": {
        "id": "pY_EprlQQv2u"
      }
    },
    {
      "cell_type": "markdown",
      "source": [
        "## Text Preprocessing"
      ],
      "metadata": {
        "id": "XNm4n7WQQ44_"
      }
    },
    {
      "cell_type": "markdown",
      "source": [
        "### 1. Lowercase"
      ],
      "metadata": {
        "id": "I3LP-XbcSMr-"
      }
    },
    {
      "cell_type": "code",
      "execution_count": null,
      "metadata": {
        "colab": {
          "base_uri": "https://localhost:8080/"
        },
        "id": "LbtISJpkK3Qx",
        "outputId": "19f938f8-c551-492f-bfff-14b7a5d046df"
      },
      "outputs": [
        {
          "output_type": "stream",
          "name": "stdout",
          "text": [
            "her cat`s name is luna\n"
          ]
        }
      ],
      "source": [
        "sentence = \"Her cat`s name is Luna\"\n",
        "lower_sentence = sentence.lower()\n",
        "print(lower_sentence)"
      ]
    },
    {
      "cell_type": "code",
      "source": [
        "sentence_list = ['Could you pass me the TV remote?',\n",
        "                 'It is IMPOSSIBLE to find this hotel',\n",
        "                 'Want to go for dinner on Tuesday?']\n",
        "\n",
        "lower_sentence_list = [x.lower() for x in sentence_list]\n",
        "\n",
        "print(lower_sentence_list)"
      ],
      "metadata": {
        "colab": {
          "base_uri": "https://localhost:8080/"
        },
        "id": "33f7fmfbRvyU",
        "outputId": "3b0b739f-88e8-483d-8ac4-f5cec6c04598"
      },
      "execution_count": null,
      "outputs": [
        {
          "output_type": "stream",
          "name": "stdout",
          "text": [
            "['could you pass me the tv remote?', 'it is impossible to find this hotel', 'want to go for dinner on tuesday?']\n"
          ]
        }
      ]
    },
    {
      "cell_type": "markdown",
      "source": [
        "### 2. Removing Stopwords"
      ],
      "metadata": {
        "id": "kXrw-Fb5SLwj"
      }
    },
    {
      "cell_type": "code",
      "source": [
        "# import packages\n",
        "import nltk\n",
        "nltk.download('stopwords')\n",
        "from nltk.corpus import stopwords"
      ],
      "metadata": {
        "colab": {
          "base_uri": "https://localhost:8080/"
        },
        "id": "jrDwZCmySjdD",
        "outputId": "c390fcfa-e14f-4c81-a6bf-968ab8bff182"
      },
      "execution_count": null,
      "outputs": [
        {
          "output_type": "stream",
          "name": "stderr",
          "text": [
            "[nltk_data] Downloading package stopwords to /root/nltk_data...\n",
            "[nltk_data]   Unzipping corpora/stopwords.zip.\n"
          ]
        }
      ]
    },
    {
      "cell_type": "code",
      "source": [
        "# assign our stop words to a variable\n",
        "en_stopwords = stopwords.words('english')\n",
        "\n",
        "# print the list of stop words to see what we will be removing\n",
        "print(en_stopwords)"
      ],
      "metadata": {
        "colab": {
          "base_uri": "https://localhost:8080/"
        },
        "id": "cgmzC0b5TD_W",
        "outputId": "66c29feb-dfb1-4053-bbef-a8be630be9c4"
      },
      "execution_count": null,
      "outputs": [
        {
          "output_type": "stream",
          "name": "stdout",
          "text": [
            "['i', 'me', 'my', 'myself', 'we', 'our', 'ours', 'ourselves', 'you', \"you're\", \"you've\", \"you'll\", \"you'd\", 'your', 'yours', 'yourself', 'yourselves', 'he', 'him', 'his', 'himself', 'she', \"she's\", 'her', 'hers', 'herself', 'it', \"it's\", 'its', 'itself', 'they', 'them', 'their', 'theirs', 'themselves', 'what', 'which', 'who', 'whom', 'this', 'that', \"that'll\", 'these', 'those', 'am', 'is', 'are', 'was', 'were', 'be', 'been', 'being', 'have', 'has', 'had', 'having', 'do', 'does', 'did', 'doing', 'a', 'an', 'the', 'and', 'but', 'if', 'or', 'because', 'as', 'until', 'while', 'of', 'at', 'by', 'for', 'with', 'about', 'against', 'between', 'into', 'through', 'during', 'before', 'after', 'above', 'below', 'to', 'from', 'up', 'down', 'in', 'out', 'on', 'off', 'over', 'under', 'again', 'further', 'then', 'once', 'here', 'there', 'when', 'where', 'why', 'how', 'all', 'any', 'both', 'each', 'few', 'more', 'most', 'other', 'some', 'such', 'no', 'nor', 'not', 'only', 'own', 'same', 'so', 'than', 'too', 'very', 's', 't', 'can', 'will', 'just', 'don', \"don't\", 'should', \"should've\", 'now', 'd', 'll', 'm', 'o', 're', 've', 'y', 'ain', 'aren', \"aren't\", 'couldn', \"couldn't\", 'didn', \"didn't\", 'doesn', \"doesn't\", 'hadn', \"hadn't\", 'hasn', \"hasn't\", 'haven', \"haven't\", 'isn', \"isn't\", 'ma', 'mightn', \"mightn't\", 'mustn', \"mustn't\", 'needn', \"needn't\", 'shan', \"shan't\", 'shouldn', \"shouldn't\", 'wasn', \"wasn't\", 'weren', \"weren't\", 'won', \"won't\", 'wouldn', \"wouldn't\"]\n"
          ]
        }
      ]
    },
    {
      "cell_type": "code",
      "source": [
        "sentence = \"it was too far to go to the shop and he did not want her to walk\""
      ],
      "metadata": {
        "id": "v3bLS4nBTW4s"
      },
      "execution_count": null,
      "outputs": []
    },
    {
      "cell_type": "code",
      "source": [
        "# keep the words in the sentance if the word is not in the list of stop words\n",
        "sentance_no_stopwords = ' '.join([word for word in sentence.split() if word not in (en_stopwords)])\n",
        "print(sentance_no_stopwords)"
      ],
      "metadata": {
        "colab": {
          "base_uri": "https://localhost:8080/"
        },
        "id": "KdVnhW-KT43k",
        "outputId": "4eed1a80-622e-46ea-d9ae-e911dc3501f8"
      },
      "execution_count": null,
      "outputs": [
        {
          "output_type": "stream",
          "name": "stdout",
          "text": [
            "far go shop want walk\n"
          ]
        }
      ]
    },
    {
      "cell_type": "code",
      "source": [
        "# removing stop words from list\n",
        "en_stopwords.remove(\"did\")\n",
        "en_stopwords.remove(\"not\")"
      ],
      "metadata": {
        "id": "VpdFcEi4T8wz"
      },
      "execution_count": null,
      "outputs": []
    },
    {
      "cell_type": "code",
      "source": [
        "# add custom stop words\n",
        "en_stopwords.append(\"go\")"
      ],
      "metadata": {
        "id": "zRKow06JT9f4"
      },
      "execution_count": null,
      "outputs": []
    },
    {
      "cell_type": "code",
      "source": [
        "sentance_no_stopwords_custom = ' '.join([word for word in sentence.split() if word not in (en_stopwords)])\n",
        "print(sentance_no_stopwords_custom)"
      ],
      "metadata": {
        "colab": {
          "base_uri": "https://localhost:8080/"
        },
        "id": "gRn8NCEST9rM",
        "outputId": "84245938-7ae5-43ae-d742-3dc8455b7e11"
      },
      "execution_count": null,
      "outputs": [
        {
          "output_type": "stream",
          "name": "stdout",
          "text": [
            "far shop did not want walk\n"
          ]
        }
      ]
    },
    {
      "cell_type": "markdown",
      "source": [
        "### 3. Regular Expressions"
      ],
      "metadata": {
        "id": "Ti20OhZzVYYQ"
      }
    },
    {
      "cell_type": "markdown",
      "source": [
        "**Raw Strings**\n",
        "\n",
        "Python recognises certain characters to have a special meaning, for example, \\n in python is used to indicate a new line. However, sometimes these codes that python recognises to have certain meanings appear in our strings and we want to tell python that a \\n in our text is a literal \\n, rather than meaning a new line.\n",
        "\n",
        "We can use the 'r' character before strings to indicate to python that our text is what is known as a \"raw string\"."
      ],
      "metadata": {
        "id": "_BL5E2gIV7gX"
      }
    },
    {
      "cell_type": "code",
      "source": [
        "# print text without using raw string indicator\n",
        "my_folder = \"C:\\desktop\\notes\"\n",
        "print(my_folder)"
      ],
      "metadata": {
        "colab": {
          "base_uri": "https://localhost:8080/"
        },
        "id": "HVw5pN0VVnZW",
        "outputId": "c986c579-826f-4207-ede2-214524c818e0"
      },
      "execution_count": null,
      "outputs": [
        {
          "output_type": "stream",
          "name": "stdout",
          "text": [
            "C:\\desktop\n",
            "otes\n"
          ]
        }
      ]
    },
    {
      "cell_type": "code",
      "source": [
        "# include raw string indicator\n",
        "my_folder = r\"C:\\desktop\\notes\"\n",
        "print(my_folder)"
      ],
      "metadata": {
        "colab": {
          "base_uri": "https://localhost:8080/"
        },
        "id": "VfSAp-obVpoE",
        "outputId": "683b71d5-ed3d-4d6c-eb61-454c7faa3c69"
      },
      "execution_count": null,
      "outputs": [
        {
          "output_type": "stream",
          "name": "stdout",
          "text": [
            "C:\\desktop\\notes\n"
          ]
        }
      ]
    },
    {
      "cell_type": "markdown",
      "source": [
        "**re.search**\n",
        "\n",
        "re.search is a function which allows us to check if a certain pattern is in a string. It uses the logic re.search(\"pattern to find\", \"string to find it it\"). It will return the pattern if it is found in the string, or else it will return None if the pattern is not found."
      ],
      "metadata": {
        "id": "PzLCRHcDWe9Z"
      }
    },
    {
      "cell_type": "code",
      "source": [
        "import re\n",
        "result_search = re.search(\"pattern\", r\"string containing the pattern\")\n",
        "print(result_search)"
      ],
      "metadata": {
        "colab": {
          "base_uri": "https://localhost:8080/"
        },
        "id": "QW0ngcm7WMlX",
        "outputId": "8c94af4f-4ff1-4446-f0c2-fed5d37415e0"
      },
      "execution_count": null,
      "outputs": [
        {
          "output_type": "stream",
          "name": "stdout",
          "text": [
            "<re.Match object; span=(22, 29), match='pattern'>\n"
          ]
        }
      ]
    },
    {
      "cell_type": "code",
      "source": [
        "print(result_search.group()) # returns just the matching pattern"
      ],
      "metadata": {
        "colab": {
          "base_uri": "https://localhost:8080/"
        },
        "id": "rquan4jLWTmq",
        "outputId": "4ae7aed9-218b-49ab-9c20-8be0496851ce"
      },
      "execution_count": null,
      "outputs": [
        {
          "output_type": "stream",
          "name": "stdout",
          "text": [
            "pattern\n"
          ]
        }
      ]
    },
    {
      "cell_type": "code",
      "source": [
        "result_search = re.search(\"pattern\",r\"the phrase to find isn't in this string\")\n",
        "print(result_search) # returns None"
      ],
      "metadata": {
        "colab": {
          "base_uri": "https://localhost:8080/"
        },
        "id": "UyW1UqFDWYOx",
        "outputId": "b9379b31-c12c-4535-bd6a-bd38186a85ef"
      },
      "execution_count": null,
      "outputs": [
        {
          "output_type": "stream",
          "name": "stdout",
          "text": [
            "None\n"
          ]
        }
      ]
    },
    {
      "cell_type": "markdown",
      "source": [
        "**re.sub**\n",
        "\n",
        "re.sub allows us to find certain text and replace it. It uses the logic re.sub(\"pattern to find\", \"replacement text\", \"string\")."
      ],
      "metadata": {
        "id": "ArvCkiTAWuv1"
      }
    },
    {
      "cell_type": "code",
      "source": [
        "string = r\"sara was able to help me find the items i needed quickly\"\n",
        "\n",
        "new_string = re.sub(r\"sara\", r\"sarah\", string) # replace the incorrect spelling of sarah\n",
        "print(new_string)"
      ],
      "metadata": {
        "colab": {
          "base_uri": "https://localhost:8080/"
        },
        "id": "yNpKvLbLWzfc",
        "outputId": "d0282985-17be-4062-891f-5782c985e90b"
      },
      "execution_count": null,
      "outputs": [
        {
          "output_type": "stream",
          "name": "stdout",
          "text": [
            "sarah was able to help me find the items i needed quickly\n"
          ]
        }
      ]
    },
    {
      "cell_type": "markdown",
      "source": [
        "**Regex Syntax**\n",
        "\n",
        "The real power of regex is being able to leverage the syntax to create more complex searches/replacements."
      ],
      "metadata": {
        "id": "lJYH2_q2XlyS"
      }
    },
    {
      "cell_type": "code",
      "source": [
        "customer_reviews = ['sam was a great help to me in the store',\n",
        "                    'the cashier was very rude to me, I think her name was eleanor',\n",
        "                    'amazing work from sadeen!',\n",
        "                    'sarah was able to help me find the items i needed quickly',\n",
        "                    'lucy is such a great addition to the team',\n",
        "                    'great service from sara she found me what i wanted'\n",
        "                   ]"
      ],
      "metadata": {
        "id": "NzthSY7TW7yi"
      },
      "execution_count": null,
      "outputs": []
    },
    {
      "cell_type": "markdown",
      "source": [
        "Find only sarah's reviews"
      ],
      "metadata": {
        "id": "ymL5dUFkYK2Z"
      }
    },
    {
      "cell_type": "code",
      "source": [
        "sarahs_reviews = []\n",
        "pattern_to_find = r\"sarah?\"\n",
        "# the ? after r means it is an optional character to match, so our search will look for sarah and sara\n",
        "\n",
        "for string in customer_reviews:\n",
        "    if (re.search(pattern_to_find, string)):\n",
        "        sarahs_reviews.append(string)\n",
        "\n",
        "print(sarahs_reviews)"
      ],
      "metadata": {
        "colab": {
          "base_uri": "https://localhost:8080/"
        },
        "id": "PPxTfftYYMd-",
        "outputId": "538f6abe-d69f-4836-ca64-e5d4ca37dfdb"
      },
      "execution_count": null,
      "outputs": [
        {
          "output_type": "stream",
          "name": "stdout",
          "text": [
            "['sarah was able to help me find the items i needed quickly', 'great service from sara she found me what i wanted']\n"
          ]
        }
      ]
    },
    {
      "cell_type": "markdown",
      "source": [
        "Find reviews that start with the letter a"
      ],
      "metadata": {
        "id": "c6xYD7xhYX8A"
      }
    },
    {
      "cell_type": "code",
      "source": [
        "a_reviews = []\n",
        "pattern_to_find = r\"^a\" # the ^ operator to indicates the start of a strin\n",
        "\n",
        "for string in customer_reviews:\n",
        "  if (re.search(pattern_to_find,string)):\n",
        "      a_reviews.append(string)\n",
        "\n",
        "print(a_reviews)\n"
      ],
      "metadata": {
        "colab": {
          "base_uri": "https://localhost:8080/"
        },
        "id": "hJU_22tdYXJP",
        "outputId": "1e6d9bce-735a-49c0-b3dc-06c2cb27bbbf"
      },
      "execution_count": null,
      "outputs": [
        {
          "output_type": "stream",
          "name": "stdout",
          "text": [
            "['amazing work from sadeen!']\n"
          ]
        }
      ]
    },
    {
      "cell_type": "markdown",
      "source": [
        "Find reviews that end with the letter y"
      ],
      "metadata": {
        "id": "SLxYhe1TZEKV"
      }
    },
    {
      "cell_type": "code",
      "source": [
        "y_reviews = []\n",
        "pattern_to_find = r\"y$\" # the $ operator to indicate the end of a string\n",
        "\n",
        "for string in customer_reviews:\n",
        "    if (re.search(pattern_to_find, string)):\n",
        "        y_reviews.append(string)\n",
        "\n",
        "print(y_reviews)"
      ],
      "metadata": {
        "colab": {
          "base_uri": "https://localhost:8080/"
        },
        "id": "W8DqKKdbZFGE",
        "outputId": "d288f6f6-d472-4528-80ee-d61a003d7b10"
      },
      "execution_count": null,
      "outputs": [
        {
          "output_type": "stream",
          "name": "stdout",
          "text": [
            "['sarah was able to help me find the items i needed quickly']\n"
          ]
        }
      ]
    },
    {
      "cell_type": "markdown",
      "source": [
        "Find reviews that contain the words needed or wanted"
      ],
      "metadata": {
        "id": "D2n6RG9BZQ-X"
      }
    },
    {
      "cell_type": "code",
      "source": [
        "needwant_reviews = []\n",
        "pattern_to_find = r\"(need|want)ed\"\n",
        "# the pipe operator | can be used to mean OR\n",
        "\n",
        "for string in customer_reviews:\n",
        "    if (re.search(pattern_to_find, string)):\n",
        "        needwant_reviews.append(string)\n",
        "\n",
        "print(needwant_reviews)"
      ],
      "metadata": {
        "colab": {
          "base_uri": "https://localhost:8080/"
        },
        "id": "s657uKF7ZSK1",
        "outputId": "5300153b-270e-4f58-ab95-c546146f3685"
      },
      "execution_count": null,
      "outputs": [
        {
          "output_type": "stream",
          "name": "stdout",
          "text": [
            "['sarah was able to help me find the items i needed quickly', 'great service from sara she found me what i wanted']\n"
          ]
        }
      ]
    },
    {
      "cell_type": "markdown",
      "source": [
        "Remove anything from the review that isn't a word or a space (i.e. remove punctuation)"
      ],
      "metadata": {
        "id": "Ge1lTn0Ia3AW"
      }
    },
    {
      "cell_type": "code",
      "source": [
        "no_punct_reviews = []\n",
        "pattern_to_find = r\"[^\\w\\s]\"\n",
        "# [^ ] means \"not\", \\w means word and \\s means whitespace: so find anything that is not a word or a space\n",
        "\n",
        "for string in customer_reviews:\n",
        "    no_punct_string = re.sub(pattern_to_find, \"\", string)\n",
        "    no_punct_reviews.append(no_punct_string)\n",
        "\n",
        "print(no_punct_reviews)"
      ],
      "metadata": {
        "colab": {
          "base_uri": "https://localhost:8080/"
        },
        "id": "LJ_248hja7OA",
        "outputId": "296c205e-32f6-49ff-e9f4-1098964c033c"
      },
      "execution_count": null,
      "outputs": [
        {
          "output_type": "stream",
          "name": "stdout",
          "text": [
            "['sam was a great help to me in the store', 'the cashier was very rude to me I think her name was eleanor', 'amazing work from sadeen', 'sarah was able to help me find the items i needed quickly', 'lucy is such a great addition to the team', 'great service from sara she found me what i wanted']\n"
          ]
        }
      ]
    },
    {
      "cell_type": "markdown",
      "source": [
        "### 4. Tokenizing Text"
      ],
      "metadata": {
        "id": "fdzXpJw9bMBy"
      }
    },
    {
      "cell_type": "markdown",
      "source": [
        "Fundamental step in NLP involves converting our text into smaller units through a process known as tokenization. These smaller units are known as our tokens. Word tokenization is the most common form of tokenization, where individual words in the text becomes a token, but tokens can also be sentences, sub words or individual characters depending on your use case.\n",
        "\n",
        "Why do we do this? The meaning of the overall text is better understood if we can analyse and understand the individual parts as well as the whole. It's also an important step before we vecotrize our data, which we'll cover more in the next section of this course."
      ],
      "metadata": {
        "id": "1v8nvnw1be_O"
      }
    },
    {
      "cell_type": "code",
      "source": [
        "import nltk\n",
        "nltk.download('punkt')\n",
        "from nltk.tokenize import word_tokenize, sent_tokenize"
      ],
      "metadata": {
        "colab": {
          "base_uri": "https://localhost:8080/"
        },
        "id": "5CqtTchwbgp4",
        "outputId": "702e5a08-b839-4867-b4cb-83f00ae502d3"
      },
      "execution_count": null,
      "outputs": [
        {
          "output_type": "stream",
          "name": "stderr",
          "text": [
            "[nltk_data] Downloading package punkt to /root/nltk_data...\n",
            "[nltk_data]   Unzipping tokenizers/punkt.zip.\n"
          ]
        }
      ]
    },
    {
      "cell_type": "markdown",
      "source": [
        "**Sentance tokenization**"
      ],
      "metadata": {
        "id": "tgtLCTiubsoj"
      }
    },
    {
      "cell_type": "code",
      "source": [
        "sentences = \"Her cat's name is Luna. Her dog's name is max\"\n",
        "sent_tokenize(sentences)"
      ],
      "metadata": {
        "colab": {
          "base_uri": "https://localhost:8080/"
        },
        "id": "6t1hwOk3by-7",
        "outputId": "9b363bf0-d6b6-42b2-e5e9-cd9a60f46ecb"
      },
      "execution_count": null,
      "outputs": [
        {
          "output_type": "execute_result",
          "data": {
            "text/plain": [
              "[\"Her cat's name is Luna.\", \"Her dog's name is max\"]"
            ]
          },
          "metadata": {},
          "execution_count": 29
        }
      ]
    },
    {
      "cell_type": "markdown",
      "source": [
        "**Word tokenization**"
      ],
      "metadata": {
        "id": "7RZJWbvCb33g"
      }
    },
    {
      "cell_type": "code",
      "source": [
        "sentence = \"Her cat's name is Luna\"\n",
        "word_tokenize(sentence)"
      ],
      "metadata": {
        "colab": {
          "base_uri": "https://localhost:8080/"
        },
        "id": "WSyFZYWFb5z6",
        "outputId": "93c07ec7-c3f9-4cd2-f161-5f57a308061d"
      },
      "execution_count": null,
      "outputs": [
        {
          "output_type": "execute_result",
          "data": {
            "text/plain": [
              "['Her', 'cat', \"'s\", 'name', 'is', 'Luna']"
            ]
          },
          "metadata": {},
          "execution_count": 30
        }
      ]
    },
    {
      "cell_type": "markdown",
      "source": [
        "Notice how \"cat's\" has been split into 2 tokens. This may be fine for your task but it is definitely something to keep in mind when you are preprocessing any text data - you might want to remove punctuation or replace contractions before tokenizing."
      ],
      "metadata": {
        "id": "bP5ScCQScCt7"
      }
    },
    {
      "cell_type": "markdown",
      "source": [
        "### 5. Stemming"
      ],
      "metadata": {
        "id": "0ly_lIsHce9I"
      }
    },
    {
      "cell_type": "markdown",
      "source": [
        "The next step in preprocessing is to standardise the text. One option for this is stemming, where words are reduced to their base form. For example, words like ‘connecting’ or ‘connected’ will be stemmed to the base form ‘connect’. Stemming works by removing suffix/ending of word but can sometimes lead to the base form not being meaningful or a proper word.\n",
        "\n",
        "We standardize the text in this way because it will lower the number of unique words in our dataset; therefore reducing the size and complexity of our data. Removing complexity and noise from the data is an important step for preparing our data properly for machine learning."
      ],
      "metadata": {
        "id": "ZNdXPWQ9c1ZG"
      }
    },
    {
      "cell_type": "code",
      "source": [
        "from nltk.stem import PorterStemmer"
      ],
      "metadata": {
        "id": "isGS9QPbc217"
      },
      "execution_count": null,
      "outputs": []
    },
    {
      "cell_type": "code",
      "source": [
        "# create stemmer\n",
        "ps = PorterStemmer()\n",
        "\n",
        "connect_tokens = ['connecting', 'connected', 'connectivity', 'connect', 'connects']\n",
        "\n",
        "for t in connect_tokens:\n",
        "    print(t, \" : \", ps.stem(t))"
      ],
      "metadata": {
        "colab": {
          "base_uri": "https://localhost:8080/"
        },
        "id": "6DElKs1ZdArB",
        "outputId": "5870694e-e367-4688-cc1b-f8fac3b7055f"
      },
      "execution_count": null,
      "outputs": [
        {
          "output_type": "stream",
          "name": "stdout",
          "text": [
            "connecting  :  connect\n",
            "connected  :  connect\n",
            "connectivity  :  connect\n",
            "connect  :  connect\n",
            "connects  :  connect\n"
          ]
        }
      ]
    },
    {
      "cell_type": "markdown",
      "source": [
        "Another Examples"
      ],
      "metadata": {
        "id": "uQMj7yJydPEz"
      }
    },
    {
      "cell_type": "code",
      "source": [
        "learn_tokens = ['learned', 'learning', 'learn', 'learns', 'learner', 'learners']\n",
        "\n",
        "for t in learn_tokens:\n",
        "    print(t, \" : \", ps.stem(t))\n",
        "\n",
        "for t in learn_tokens:\n",
        "    print(t, \" : \", ps.stem(t))"
      ],
      "metadata": {
        "colab": {
          "base_uri": "https://localhost:8080/"
        },
        "id": "lzod8NkcdRnE",
        "outputId": "387ae8e1-adc8-41d7-c55a-13c893e37276"
      },
      "execution_count": null,
      "outputs": [
        {
          "output_type": "stream",
          "name": "stdout",
          "text": [
            "learned  :  learn\n",
            "learning  :  learn\n",
            "learn  :  learn\n",
            "learns  :  learn\n",
            "learner  :  learner\n",
            "learners  :  learner\n",
            "learned  :  learn\n",
            "learning  :  learn\n",
            "learn  :  learn\n",
            "learns  :  learn\n",
            "learner  :  learner\n",
            "learners  :  learner\n"
          ]
        }
      ]
    },
    {
      "cell_type": "code",
      "source": [
        "likes_tokens = ['likes', 'better', 'worse']\n",
        "\n",
        "for t in likes_tokens:\n",
        "    print(t, \" : \", ps.stem(t))"
      ],
      "metadata": {
        "colab": {
          "base_uri": "https://localhost:8080/"
        },
        "id": "GdeVaWdydkJP",
        "outputId": "35301120-b65f-4597-a0bc-63e7bb917bf1"
      },
      "execution_count": null,
      "outputs": [
        {
          "output_type": "stream",
          "name": "stdout",
          "text": [
            "likes  :  like\n",
            "better  :  better\n",
            "worse  :  wors\n"
          ]
        }
      ]
    },
    {
      "cell_type": "markdown",
      "source": [
        "### 6. Lemmatization"
      ],
      "metadata": {
        "id": "O4z_jHNadyj_"
      }
    },
    {
      "cell_type": "markdown",
      "source": [
        "Where stemming removes the last few characters of a word, lemmatization stems the word to a more meaningful base form and ensures it does not lose it's meaning. Lemmatization works more intelligently, referencing a pre-defined dictionary containing the context of words and uses this when diminishing the word to the base form."
      ],
      "metadata": {
        "id": "AyCVGUHueCK9"
      }
    },
    {
      "cell_type": "code",
      "source": [
        "import nltk\n",
        "nltk.download('wordnet')\n",
        "from nltk.stem import WordNetLemmatizer"
      ],
      "metadata": {
        "colab": {
          "base_uri": "https://localhost:8080/"
        },
        "id": "4tmKu1cpeC9V",
        "outputId": "b331e188-b0f2-4596-8b25-9ab524cbd24f"
      },
      "execution_count": null,
      "outputs": [
        {
          "output_type": "stream",
          "name": "stderr",
          "text": [
            "[nltk_data] Downloading package wordnet to /root/nltk_data...\n"
          ]
        }
      ]
    },
    {
      "cell_type": "code",
      "source": [
        "# create lemmatizer\n",
        "lemmatizer = WordNetLemmatizer()"
      ],
      "metadata": {
        "id": "3uNVoUAheJAO"
      },
      "execution_count": null,
      "outputs": []
    },
    {
      "cell_type": "code",
      "source": [
        "for t in connect_tokens:\n",
        "    print(t, \" : \", lemmatizer.lemmatize(t))"
      ],
      "metadata": {
        "colab": {
          "base_uri": "https://localhost:8080/"
        },
        "id": "3mtphY8leKPv",
        "outputId": "2ef776b3-2be7-4d0c-ed91-ccd19112b0f1"
      },
      "execution_count": null,
      "outputs": [
        {
          "output_type": "stream",
          "name": "stdout",
          "text": [
            "connecting  :  connecting\n",
            "connected  :  connected\n",
            "connectivity  :  connectivity\n",
            "connect  :  connect\n",
            "connects  :  connects\n"
          ]
        }
      ]
    },
    {
      "cell_type": "code",
      "source": [
        "for t in learn_tokens:\n",
        "    print(t, \" : \", lemmatizer.lemmatize(t))"
      ],
      "metadata": {
        "colab": {
          "base_uri": "https://localhost:8080/"
        },
        "id": "_E5UwFN-eSfK",
        "outputId": "1acd96a4-5575-4601-979f-41a322a5b3f3"
      },
      "execution_count": null,
      "outputs": [
        {
          "output_type": "stream",
          "name": "stdout",
          "text": [
            "learned  :  learned\n",
            "learning  :  learning\n",
            "learn  :  learn\n",
            "learns  :  learns\n",
            "learner  :  learner\n",
            "learners  :  learner\n"
          ]
        }
      ]
    },
    {
      "cell_type": "code",
      "source": [
        "for t in likes_tokens:\n",
        "    print(t, \" : \", lemmatizer.lemmatize(t))"
      ],
      "metadata": {
        "colab": {
          "base_uri": "https://localhost:8080/"
        },
        "id": "67NNomkoeTJ6",
        "outputId": "877496dd-a35b-45cc-fc64-ae77d6d8be63"
      },
      "execution_count": null,
      "outputs": [
        {
          "output_type": "stream",
          "name": "stdout",
          "text": [
            "likes  :  like\n",
            "better  :  better\n",
            "worse  :  worse\n"
          ]
        }
      ]
    },
    {
      "cell_type": "markdown",
      "source": [
        "### 7. N-grams"
      ],
      "metadata": {
        "id": "4STin8KFfQ_P"
      }
    },
    {
      "cell_type": "markdown",
      "source": [
        "We can break our text down into n-grams to check our preprocessing, explore the contents of our data, or create new features for machine learning. An n-gram is simply a sequence of neighbouring n words (or tokens), where n can be any number."
      ],
      "metadata": {
        "id": "J2YwdbMZfYi5"
      }
    },
    {
      "cell_type": "code",
      "source": [
        "import nltk\n",
        "import pandas as pd\n",
        "import matplotlib.pyplot as plt"
      ],
      "metadata": {
        "id": "wnp30oFyfbjN"
      },
      "execution_count": null,
      "outputs": []
    },
    {
      "cell_type": "code",
      "source": [
        "tokens = ['the', 'rise', 'of', 'artificial', 'intelligence', 'has', 'led', 'to', 'significant', 'advancements', 'in', 'natural', 'language', 'processing', 'computer', 'vision', 'and', 'other', 'fields', 'machine', 'learning', 'algorithms', 'are', 'becoming', 'more', 'sophisticated', 'enabling', 'computers', 'to', 'perform', 'complex', 'tasks', 'that', 'were', 'once', 'thought', 'to', 'be', 'the', 'exclusive', 'domain', 'of', 'humans', 'with', 'the', 'advent', 'of', 'deep', 'learning', 'neural', 'networks', 'have', 'become', 'even', 'more', 'powerful', 'capable', 'of', 'processing', 'vast', 'amounts', 'of', 'data', 'and', 'learning', 'from', 'it', 'in', 'ways', 'that', 'were', 'not', 'possible', 'before', 'as', 'a', 'result', 'ai', 'is', 'increasingly', 'being', 'used', 'in', 'a', 'wide', 'range', 'of', 'industries', 'from', 'healthcare', 'to', 'finance', 'to', 'transportation', 'and', 'its', 'impact', 'is', 'only', 'set', 'to', 'grow', 'in', 'the', 'years', 'to', 'come']\n",
        "print(tokens)"
      ],
      "metadata": {
        "colab": {
          "base_uri": "https://localhost:8080/"
        },
        "id": "PSQg3Ef6fiaD",
        "outputId": "b75b374c-11cb-4517-920f-d376240c09ca"
      },
      "execution_count": null,
      "outputs": [
        {
          "output_type": "stream",
          "name": "stdout",
          "text": [
            "['the', 'rise', 'of', 'artificial', 'intelligence', 'has', 'led', 'to', 'significant', 'advancements', 'in', 'natural', 'language', 'processing', 'computer', 'vision', 'and', 'other', 'fields', 'machine', 'learning', 'algorithms', 'are', 'becoming', 'more', 'sophisticated', 'enabling', 'computers', 'to', 'perform', 'complex', 'tasks', 'that', 'were', 'once', 'thought', 'to', 'be', 'the', 'exclusive', 'domain', 'of', 'humans', 'with', 'the', 'advent', 'of', 'deep', 'learning', 'neural', 'networks', 'have', 'become', 'even', 'more', 'powerful', 'capable', 'of', 'processing', 'vast', 'amounts', 'of', 'data', 'and', 'learning', 'from', 'it', 'in', 'ways', 'that', 'were', 'not', 'possible', 'before', 'as', 'a', 'result', 'ai', 'is', 'increasingly', 'being', 'used', 'in', 'a', 'wide', 'range', 'of', 'industries', 'from', 'healthcare', 'to', 'finance', 'to', 'transportation', 'and', 'its', 'impact', 'is', 'only', 'set', 'to', 'grow', 'in', 'the', 'years', 'to', 'come']\n"
          ]
        }
      ]
    },
    {
      "cell_type": "code",
      "source": [
        "# unigrams: n=1\n",
        "unigrams = (pd.Series(nltk.ngrams(tokens, 1)).value_counts())\n",
        "print(unigrams)"
      ],
      "metadata": {
        "colab": {
          "base_uri": "https://localhost:8080/"
        },
        "id": "QiHLGNq5gGey",
        "outputId": "475d9905-29e8-4158-bb6d-24de40b755eb"
      },
      "execution_count": null,
      "outputs": [
        {
          "output_type": "stream",
          "name": "stdout",
          "text": [
            "(to,)          7\n",
            "(of,)          6\n",
            "(the,)         4\n",
            "(in,)          4\n",
            "(learning,)    3\n",
            "              ..\n",
            "(humans,)      1\n",
            "(rise,)        1\n",
            "(advent,)      1\n",
            "(deep,)        1\n",
            "(come,)        1\n",
            "Length: 79, dtype: int64\n"
          ]
        }
      ]
    },
    {
      "cell_type": "code",
      "source": [
        "unigrams[0:10].sort_values().plot.barh(color='lightsalmon', width=.9, figsize=(12, 8))\n",
        "plt.title('10 Most Frequently Occuring Unigrams')\n",
        "plt.ylabel('Unigram')\n",
        "plt.xlabel('# of Occurances')"
      ],
      "metadata": {
        "colab": {
          "base_uri": "https://localhost:8080/",
          "height": 735
        },
        "id": "gPxPcNWGhh7l",
        "outputId": "9b1eb24d-14dc-4fc0-cb01-482c01c478cc"
      },
      "execution_count": null,
      "outputs": [
        {
          "output_type": "execute_result",
          "data": {
            "text/plain": [
              "Text(0.5, 0, '# of Occurances')"
            ]
          },
          "metadata": {},
          "execution_count": 45
        },
        {
          "output_type": "display_data",
          "data": {
            "text/plain": [
              "<Figure size 1200x800 with 1 Axes>"
            ],
            "image/png": "[encoded data removed]"
          },
          "metadata": {}
        }
      ]
    },
    {
      "cell_type": "code",
      "source": [
        "# bigrams: n=2\n",
        "bigrams = (pd.Series(nltk.ngrams(tokens, 2)).value_counts())\n",
        "print(bigrams)"
      ],
      "metadata": {
        "colab": {
          "base_uri": "https://localhost:8080/"
        },
        "id": "osjtuPTPhreH",
        "outputId": "8fd2dd38-9d91-4d1c-f446-d81e244fdf53"
      },
      "execution_count": null,
      "outputs": [
        {
          "output_type": "stream",
          "name": "stdout",
          "text": [
            "(that, were)             2\n",
            "(the, rise)              1\n",
            "(increasingly, being)    1\n",
            "(ai, is)                 1\n",
            "(result, ai)             1\n",
            "                        ..\n",
            "(tasks, that)            1\n",
            "(complex, tasks)         1\n",
            "(perform, complex)       1\n",
            "(to, perform)            1\n",
            "(to, come)               1\n",
            "Length: 105, dtype: int64\n"
          ]
        }
      ]
    },
    {
      "cell_type": "code",
      "source": [
        "bigrams[0:10].sort_values().plot.barh(color='skyblue', width=.9, figsize=(12, 8))\n",
        "plt.title('10 Most Frequently Occuring Bigrams')\n",
        "plt.ylabel('Bigram')\n",
        "plt.xlabel('# of Occurances')"
      ],
      "metadata": {
        "colab": {
          "base_uri": "https://localhost:8080/",
          "height": 735
        },
        "id": "edj-H-YWhuG4",
        "outputId": "b39c774d-1967-40fb-97b5-3fa7b8072558"
      },
      "execution_count": null,
      "outputs": [
        {
          "output_type": "execute_result",
          "data": {
            "text/plain": [
              "Text(0.5, 0, '# of Occurances')"
            ]
          },
          "metadata": {},
          "execution_count": 47
        },
        {
          "output_type": "display_data",
          "data": {
            "text/plain": [
              "<Figure size 1200x800 with 1 Axes>"
            ],
            "image/png": "[encoded data removed]"
          },
          "metadata": {}
        }
      ]
    },
    {
      "cell_type": "code",
      "source": [
        "# trigrams: n=3\n",
        "trigrams = (pd.Series(nltk.ngrams(tokens, 3)).value_counts())\n",
        "print(trigrams)"
      ],
      "metadata": {
        "colab": {
          "base_uri": "https://localhost:8080/"
        },
        "id": "KOmozpCChyYN",
        "outputId": "fa3e5635-9ffa-4b16-8b6f-9df592f077a5"
      },
      "execution_count": null,
      "outputs": [
        {
          "output_type": "stream",
          "name": "stdout",
          "text": [
            "(the, rise, of)              1\n",
            "(even, more, powerful)       1\n",
            "(ai, is, increasingly)       1\n",
            "(result, ai, is)             1\n",
            "(a, result, ai)              1\n",
            "                            ..\n",
            "(that, were, once)           1\n",
            "(tasks, that, were)          1\n",
            "(complex, tasks, that)       1\n",
            "(perform, complex, tasks)    1\n",
            "(years, to, come)            1\n",
            "Length: 105, dtype: int64\n"
          ]
        }
      ]
    }
  ]
}